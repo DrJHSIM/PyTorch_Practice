{
  "nbformat": 4,
  "nbformat_minor": 0,
  "metadata": {
    "colab": {
      "provenance": [],
      "authorship_tag": "ABX9TyOkfcYbux0WwamTxAZUm/tj",
      "include_colab_link": true
    },
    "kernelspec": {
      "name": "python3",
      "display_name": "Python 3"
    },
    "language_info": {
      "name": "python"
    }
  },
  "cells": [
    {
      "cell_type": "markdown",
      "metadata": {
        "id": "view-in-github",
        "colab_type": "text"
      },
      "source": [
        "<a href=\"https://colab.research.google.com/github/DrJHSIM/PyTorch_Practice/blob/main/Tensor.ipynb\" target=\"_parent\"><img src=\"https://colab.research.google.com/assets/colab-badge.svg\" alt=\"Open In Colab\"/></a>"
      ]
    },
    {
      "cell_type": "code",
      "execution_count": 1,
      "metadata": {
        "id": "xcxQo2Za1VeV"
      },
      "outputs": [],
      "source": [
        "import torch\n",
        "import numpy as np"
      ]
    },
    {
      "cell_type": "markdown",
      "source": [
        "## Tensor 초기화"
      ],
      "metadata": {
        "id": "agi76F-r1mNY"
      }
    },
    {
      "cell_type": "markdown",
      "source": [
        "### 데이터로 부터 바로 생성"
      ],
      "metadata": {
        "id": "DjHqmtu81bty"
      }
    },
    {
      "cell_type": "code",
      "source": [
        "data = [[1, 2], [3, 4]]\n",
        "x_data = torch.tensor(data)"
      ],
      "metadata": {
        "id": "guxwoDRb1adS"
      },
      "execution_count": 2,
      "outputs": []
    },
    {
      "cell_type": "markdown",
      "source": [
        "### Numpy에서 부터 생성"
      ],
      "metadata": {
        "id": "KwwfNPhq1jy-"
      }
    },
    {
      "cell_type": "code",
      "source": [
        "np_array = np.array(data)\n",
        "t_data = torch.from_numpy(np_array)"
      ],
      "metadata": {
        "id": "bJ8WpcLl1i9F"
      },
      "execution_count": 3,
      "outputs": []
    },
    {
      "cell_type": "code",
      "source": [
        "print(t_data)"
      ],
      "metadata": {
        "colab": {
          "base_uri": "https://localhost:8080/"
        },
        "id": "EybWmDtS16py",
        "outputId": "20e6792d-8eb9-4581-d55a-e629fa520c99"
      },
      "execution_count": 4,
      "outputs": [
        {
          "output_type": "stream",
          "name": "stdout",
          "text": [
            "tensor([[1, 2],\n",
            "        [3, 4]])\n"
          ]
        }
      ]
    },
    {
      "cell_type": "markdown",
      "source": [
        "### 다른 텐서로부터 생성"
      ],
      "metadata": {
        "id": "ok6VJC3J1_ZI"
      }
    },
    {
      "cell_type": "markdown",
      "source": [
        "인수로 받는 tensor의 특성을 받음 (shape, dtype, device)."
      ],
      "metadata": {
        "id": "RQmSpMWY24zb"
      }
    },
    {
      "cell_type": "code",
      "source": [
        "x_ones = torch.ones_like(t_data)\n",
        "print(f\"Ones Tensor : {x_ones}\")\n",
        "x_rand = torch.rand_like(t_data, dtype = torch.float)\n",
        "print(f\"Zeros Tensor : {x_rand}\")"
      ],
      "metadata": {
        "colab": {
          "base_uri": "https://localhost:8080/"
        },
        "id": "jTxReZm_2BGQ",
        "outputId": "a6f7f9b2-1cbb-4f84-af6c-a0a71fae6c2b"
      },
      "execution_count": 7,
      "outputs": [
        {
          "output_type": "stream",
          "name": "stdout",
          "text": [
            "Ones Tensor : tensor([[1, 1],\n",
            "        [1, 1]])\n",
            "Zeros Tensor : tensor([[0.0117, 0.0425],\n",
            "        [0.4654, 0.2946]])\n"
          ]
        }
      ]
    },
    {
      "cell_type": "markdown",
      "source": [
        "### shape으로 생성"
      ],
      "metadata": {
        "id": "ZYwfYJ5r3EfW"
      }
    },
    {
      "cell_type": "code",
      "source": [
        "shape = (2, 3)\n",
        "rand_tensor = torch.rand(shape)\n",
        "ones_tensor = torch.ones(shape)\n",
        "zeros_tensor = torch.zeros(shape)\n",
        "\n",
        "print(f\"Random Tensor : \\n {rand_tensor}\")\n",
        "print(f\"Ones Tensor : \\n {ones_tensor}\")\n",
        "print(f\"Zeros Tensor : \\n {zeros_tensor}\")"
      ],
      "metadata": {
        "colab": {
          "base_uri": "https://localhost:8080/"
        },
        "id": "MclRhqkL2vd0",
        "outputId": "9fb6f600-876d-475a-edf5-0f3bc740d9be"
      },
      "execution_count": 8,
      "outputs": [
        {
          "output_type": "stream",
          "name": "stdout",
          "text": [
            "Random Tensor : \n",
            " tensor([[0.9120, 0.5602, 0.6134],\n",
            "        [0.7783, 0.1489, 0.5708]])\n",
            "Ones Tensor : \n",
            " tensor([[1., 1., 1.],\n",
            "        [1., 1., 1.]])\n",
            "Zeros Tensor : \n",
            " tensor([[0., 0., 0.],\n",
            "        [0., 0., 0.]])\n"
          ]
        }
      ]
    },
    {
      "cell_type": "markdown",
      "source": [
        "## Tensor 연산들(operations)"
      ],
      "metadata": {
        "id": "vNEpxwfF5hpo"
      }
    },
    {
      "cell_type": "markdown",
      "source": [
        "tensor에는 100개가 넘는 연산자들이 있음. \\\n",
        "https://pytorch.org/docs/stable/torch.html\n"
      ],
      "metadata": {
        "id": "dvZWAqhm5lnd"
      }
    },
    {
      "cell_type": "markdown",
      "source": [
        "### tensor를 GPU로 보내고 싶을 경우."
      ],
      "metadata": {
        "id": "JYPQSwnE51Yl"
      }
    },
    {
      "cell_type": "code",
      "source": [
        "if torch.cuda.is_available():\n",
        "    tensor = tensor.to(\"cuda\")"
      ],
      "metadata": {
        "id": "0WwlBWzM5zHS"
      },
      "execution_count": null,
      "outputs": []
    },
    {
      "cell_type": "markdown",
      "source": [
        "### tensor의 indexing과 slicing (NumPy같이 할 수 있음)"
      ],
      "metadata": {
        "id": "NmAJn6Bf6Dr_"
      }
    },
    {
      "cell_type": "code",
      "source": [
        "tensor = torch.ones(4, 4)\n",
        "print(f\"row : {tensor[0]}\")\n",
        "print(f\"column : {tensor[:, 0]}\")\n",
        "print(f\"Last column : {tensor[... , -1]}\")\n",
        "tensor[:, 1] = 0\n",
        "print(tensor)"
      ],
      "metadata": {
        "colab": {
          "base_uri": "https://localhost:8080/"
        },
        "id": "Iox2a-KQ58PZ",
        "outputId": "dc0cece0-ae7a-49cd-af89-d4821b532d47"
      },
      "execution_count": 9,
      "outputs": [
        {
          "output_type": "stream",
          "name": "stdout",
          "text": [
            "row : tensor([1., 1., 1., 1.])\n",
            "column : tensor([1., 1., 1., 1.])\n",
            "Last column : tensor([1., 1., 1., 1.])\n",
            "tensor([[1., 0., 1., 1.],\n",
            "        [1., 0., 1., 1.],\n",
            "        [1., 0., 1., 1.],\n",
            "        [1., 0., 1., 1.]])\n"
          ]
        }
      ]
    },
    {
      "cell_type": "markdown",
      "source": [
        "### tensor들을 연결하기(joining)"
      ],
      "metadata": {
        "id": "tkck84zJ6tlQ"
      }
    },
    {
      "cell_type": "code",
      "source": [
        "t1 = torch.cat([tensor, tensor, tensor], dim = 1)\n",
        "print(t1)"
      ],
      "metadata": {
        "colab": {
          "base_uri": "https://localhost:8080/"
        },
        "id": "koq-C0d16zCP",
        "outputId": "3d6a0341-3584-4ca7-a699-cb735a6a99b5"
      },
      "execution_count": 10,
      "outputs": [
        {
          "output_type": "stream",
          "name": "stdout",
          "text": [
            "tensor([[1., 0., 1., 1., 1., 0., 1., 1., 1., 0., 1., 1.],\n",
            "        [1., 0., 1., 1., 1., 0., 1., 1., 1., 0., 1., 1.],\n",
            "        [1., 0., 1., 1., 1., 0., 1., 1., 1., 0., 1., 1.],\n",
            "        [1., 0., 1., 1., 1., 0., 1., 1., 1., 0., 1., 1.]])\n"
          ]
        }
      ]
    },
    {
      "cell_type": "markdown",
      "source": [
        "### 산술(Arithmetic) 연산들(operations)"
      ],
      "metadata": {
        "id": "lP-mnlbA678i"
      }
    },
    {
      "cell_type": "code",
      "source": [
        "# 행렬곱\n",
        "y1 = tensor @ tensor.T\n",
        "y2 = tensor.matmul(tensor.T)\n",
        "\n",
        "# 원소별곱(element-wise product)\n",
        "y3 = tensor*tensor\n",
        "y4 = tensor.mul(tensor)"
      ],
      "metadata": {
        "id": "aIhaGSJ17GEo"
      },
      "execution_count": 11,
      "outputs": []
    },
    {
      "cell_type": "markdown",
      "source": [
        "### 단일 원소 텐서(Single-element tensors)"
      ],
      "metadata": {
        "id": "W93JD4m970T5"
      }
    },
    {
      "cell_type": "markdown",
      "source": [
        "단일 원소 텐서를 얻기 위해서는 텐서를 .item()을 사용하여 파이썬의 수치적인 값으로 바꾸어야 함."
      ],
      "metadata": {
        "id": "wn-P7Ahh7_sl"
      }
    },
    {
      "cell_type": "code",
      "source": [
        "agg = tensor.sum()\n",
        "agg_item = agg.item()\n",
        "print(agg_item, type(agg_item))"
      ],
      "metadata": {
        "colab": {
          "base_uri": "https://localhost:8080/"
        },
        "id": "oNLwWYlM78u_",
        "outputId": "d6e5878b-82dd-47ea-b16a-67ec8fde54ee"
      },
      "execution_count": 12,
      "outputs": [
        {
          "output_type": "stream",
          "name": "stdout",
          "text": [
            "12.0 <class 'float'>\n"
          ]
        }
      ]
    },
    {
      "cell_type": "markdown",
      "source": [
        "### in-place 연산들"
      ],
      "metadata": {
        "id": "F23Gw8Kh8h8w"
      }
    },
    {
      "cell_type": "markdown",
      "source": [
        "결과를 피연산자(operand)에 저장하는 것을 in-place라 함. _ 접미사(suffix)로 표기함. \\\n",
        "(메모리를 절약할 수 있지만, derivative을 계산할 경우 문제가 되어 잘 쓰지 않음)"
      ],
      "metadata": {
        "id": "R-jhJ43X8vsd"
      }
    },
    {
      "cell_type": "code",
      "source": [
        "print(f\"{tensor}\\n\")\n",
        "tensor.add_(5)\n",
        "print(f\"{tensor}\\n\")"
      ],
      "metadata": {
        "colab": {
          "base_uri": "https://localhost:8080/"
        },
        "id": "YGQaRQxK8ltY",
        "outputId": "e1d27666-6d77-4c43-f99f-aee37d2a6635"
      },
      "execution_count": 14,
      "outputs": [
        {
          "output_type": "stream",
          "name": "stdout",
          "text": [
            "tensor([[1., 0., 1., 1.],\n",
            "        [1., 0., 1., 1.],\n",
            "        [1., 0., 1., 1.],\n",
            "        [1., 0., 1., 1.]])\n",
            "\n",
            "tensor([[6., 5., 6., 6.],\n",
            "        [6., 5., 6., 6.],\n",
            "        [6., 5., 6., 6.],\n",
            "        [6., 5., 6., 6.]])\n",
            "\n"
          ]
        }
      ]
    },
    {
      "cell_type": "markdown",
      "source": [
        "### NumPy에서 Tensor로\n",
        "CPU에서 tensors는 NumPy arrays와 기본적으로 메모리 위치를 공유해서 하나가 바뀌면 다른 것도 바뀜."
      ],
      "metadata": {
        "id": "R1rpoLkK9ftK"
      }
    },
    {
      "cell_type": "markdown",
      "source": [
        "#### Tensor에서 Numpy로..."
      ],
      "metadata": {
        "id": "DQFHGhqS-muz"
      }
    },
    {
      "cell_type": "code",
      "source": [
        "t = torch.ones(5)\n",
        "print(f\"t : {t}\")\n",
        "n = t.numpy()\n",
        "print(f\"n : {n}\")"
      ],
      "metadata": {
        "colab": {
          "base_uri": "https://localhost:8080/"
        },
        "id": "Zma2yvZq-o3Q",
        "outputId": "63917e89-1fe2-4649-e7fd-ef4d0179ba75"
      },
      "execution_count": 20,
      "outputs": [
        {
          "output_type": "stream",
          "name": "stdout",
          "text": [
            "t : tensor([1., 1., 1., 1., 1.])\n",
            "n : [1. 1. 1. 1. 1.]\n"
          ]
        }
      ]
    },
    {
      "cell_type": "markdown",
      "source": [
        "tensor의 값을 바꾸면 NumPy의 array에도 반영됨."
      ],
      "metadata": {
        "id": "mppREgjJ-8CG"
      }
    },
    {
      "cell_type": "code",
      "source": [
        "t.add_(1)\n",
        "print(f\"t : {t}\")\n",
        "print(f\"n : {n}\")"
      ],
      "metadata": {
        "colab": {
          "base_uri": "https://localhost:8080/"
        },
        "id": "ihRQR_tL-__N",
        "outputId": "d88b4b5f-e47c-4d40-c7e6-05c4f623c04b"
      },
      "execution_count": 21,
      "outputs": [
        {
          "output_type": "stream",
          "name": "stdout",
          "text": [
            "t : tensor([2., 2., 2., 2., 2.])\n",
            "n : [2. 2. 2. 2. 2.]\n"
          ]
        }
      ]
    },
    {
      "cell_type": "markdown",
      "source": [
        "#### NumPy에서 Tensor로.."
      ],
      "metadata": {
        "id": "gRhh99cR96Nz"
      }
    },
    {
      "cell_type": "code",
      "source": [
        "np_array = np.ones(5)\n",
        "t_array = torch.from_numpy(np_array)\n",
        "print(f\"numpy : {np_array} \\ntensor : {t_array}\")"
      ],
      "metadata": {
        "colab": {
          "base_uri": "https://localhost:8080/"
        },
        "id": "CLS-jX1094N9",
        "outputId": "d4078b57-6d45-4f35-be79-49e43c2f46b1"
      },
      "execution_count": 18,
      "outputs": [
        {
          "output_type": "stream",
          "name": "stdout",
          "text": [
            "numpy : [1. 1. 1. 1. 1.] \n",
            "tensor : tensor([1., 1., 1., 1., 1.], dtype=torch.float64)\n"
          ]
        }
      ]
    },
    {
      "cell_type": "markdown",
      "source": [
        "NumPy의 array의 값을 바꾸면 tensor의 값도 바뀜."
      ],
      "metadata": {
        "id": "kQiRqp3B-PbF"
      }
    },
    {
      "cell_type": "code",
      "source": [
        "np.add(np_array, 1, out = np_array)\n",
        "print(f\"np_array : {np_array}\")\n",
        "print(f\"t_array : {t_array}\")"
      ],
      "metadata": {
        "colab": {
          "base_uri": "https://localhost:8080/"
        },
        "id": "2nl1FLB_-bk_",
        "outputId": "8d8ce3c1-2f73-40d2-914d-f6a52b55a5dd"
      },
      "execution_count": 19,
      "outputs": [
        {
          "output_type": "stream",
          "name": "stdout",
          "text": [
            "np_array : [2. 2. 2. 2. 2.]\n",
            "t_array : tensor([2., 2., 2., 2., 2.], dtype=torch.float64)\n"
          ]
        }
      ]
    }
  ]
}