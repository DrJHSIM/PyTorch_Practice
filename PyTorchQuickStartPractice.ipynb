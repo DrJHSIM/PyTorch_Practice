{
  "nbformat": 4,
  "nbformat_minor": 0,
  "metadata": {
    "colab": {
      "provenance": [],
      "gpuType": "T4",
      "authorship_tag": "ABX9TyOh2M+EeS0Xsa6wuC8Y45VX",
      "include_colab_link": true
    },
    "kernelspec": {
      "name": "python3",
      "display_name": "Python 3"
    },
    "language_info": {
      "name": "python"
    },
    "accelerator": "GPU"
  },
  "cells": [
    {
      "cell_type": "markdown",
      "metadata": {
        "id": "view-in-github",
        "colab_type": "text"
      },
      "source": [
        "<a href=\"https://colab.research.google.com/github/DrJHSIM/PyTorch_Practice/blob/main/PyTorchQuickStartPractice.ipynb\" target=\"_parent\"><img src=\"https://colab.research.google.com/assets/colab-badge.svg\" alt=\"Open In Colab\"/></a>"
      ]
    },
    {
      "cell_type": "markdown",
      "source": [
        "# import"
      ],
      "metadata": {
        "id": "acAnCiKs0H_3"
      }
    },
    {
      "cell_type": "code",
      "source": [
        "import torch\n",
        "from torch import nn\n",
        "from torchvision import datasets\n",
        "from torchvision.transforms import ToTensor\n",
        "from torch.utils.data import DataLoader"
      ],
      "metadata": {
        "id": "R2T6AnpG1Bpq"
      },
      "execution_count": 1,
      "outputs": []
    },
    {
      "cell_type": "markdown",
      "source": [
        "# dataload"
      ],
      "metadata": {
        "id": "I7u9ncGS0yMV"
      }
    },
    {
      "cell_type": "code",
      "source": [
        "training_data = datasets.FashionMNIST(\n",
        "    root = \"data\",\n",
        "    train = True,\n",
        "    download = True,\n",
        "    transform = ToTensor()\n",
        ")\n",
        "\n",
        "testing_data = datasets.FashionMNIST(\n",
        "    root = \"data\",\n",
        "    train = False,\n",
        "    download = True,\n",
        "    transform = ToTensor()\n",
        ")"
      ],
      "metadata": {
        "id": "HZbKcN6H5IJa"
      },
      "execution_count": 5,
      "outputs": []
    },
    {
      "cell_type": "code",
      "source": [
        "batch = 64\n",
        "train_dataloader = DataLoader(training_data, batch_size = batch)\n",
        "test_dataloader = DataLoader(testing_data, batch_size = batch)"
      ],
      "metadata": {
        "id": "_VKdoOkS763j"
      },
      "execution_count": 6,
      "outputs": []
    },
    {
      "cell_type": "markdown",
      "source": [
        "# model"
      ],
      "metadata": {
        "id": "MeFoB-YD0z96"
      }
    },
    {
      "cell_type": "code",
      "source": [
        "for X, y in train_dataloader:\n",
        "    print(X.shape, y.shape)\n",
        "    break"
      ],
      "metadata": {
        "colab": {
          "base_uri": "https://localhost:8080/"
        },
        "id": "E3rH00ad80SI",
        "outputId": "ad984a4a-1e3a-49ac-acaf-8274476f2840"
      },
      "execution_count": 11,
      "outputs": [
        {
          "output_type": "stream",
          "name": "stdout",
          "text": [
            "torch.Size([64, 1, 28, 28]) torch.Size([64])\n"
          ]
        }
      ]
    },
    {
      "cell_type": "code",
      "source": [
        "device = (\n",
        "    \"cuda\"\n",
        "    if torch.cuda.is_available()\n",
        "    else \"mps\"\n",
        "    if torch.backends.mps.is_available()\n",
        "    else \"cpu\"\n",
        ")\n",
        "\n",
        "print(f\"Using {device} device\")"
      ],
      "metadata": {
        "colab": {
          "base_uri": "https://localhost:8080/"
        },
        "id": "g6kXFM3x-j4p",
        "outputId": "90ee5a18-c063-4788-90cb-295bc302d427"
      },
      "execution_count": 13,
      "outputs": [
        {
          "output_type": "stream",
          "name": "stdout",
          "text": [
            "Using cpu device\n"
          ]
        }
      ]
    },
    {
      "cell_type": "code",
      "source": [
        "class SimpleNetworks(nn.Module):\n",
        "    def __init__(self):\n",
        "        super().__init__()\n",
        "        self.flatten = nn.Flatten()\n",
        "        self.features = nn.Sequential(\n",
        "            nn.Linear(28*28, 512),\n",
        "            nn.ReLU(),\n",
        "            nn.Linear(512, 512),\n",
        "            nn.ReLU(),\n",
        "            nn.Linear(512, 10)\n",
        "        )\n",
        "\n",
        "    def forward(self, x):\n",
        "        x = self.flatten(x)\n",
        "        x = self.features(x)\n",
        "        return x\n",
        "\n",
        "model = SimpleNetworks().to(device)\n",
        "print(model)"
      ],
      "metadata": {
        "colab": {
          "base_uri": "https://localhost:8080/"
        },
        "id": "v4RqoipF75Cc",
        "outputId": "227f11e7-599f-4c31-9f51-732e8411498d"
      },
      "execution_count": 55,
      "outputs": [
        {
          "output_type": "stream",
          "name": "stdout",
          "text": [
            "SimpleNetworks(\n",
            "  (flatten): Flatten(start_dim=1, end_dim=-1)\n",
            "  (features): Sequential(\n",
            "    (0): Linear(in_features=784, out_features=512, bias=True)\n",
            "    (1): ReLU()\n",
            "    (2): Linear(in_features=512, out_features=512, bias=True)\n",
            "    (3): ReLU()\n",
            "    (4): Linear(in_features=512, out_features=10, bias=True)\n",
            "  )\n",
            ")\n"
          ]
        }
      ]
    },
    {
      "cell_type": "markdown",
      "source": [
        "# train and valid define"
      ],
      "metadata": {
        "id": "DTiwI9mV025v"
      }
    },
    {
      "cell_type": "code",
      "source": [
        "loss_fn = nn.CrossEntropyLoss()\n",
        "optimizer = torch.optim.SGD(model.parameters(), lr = 1e-3)"
      ],
      "metadata": {
        "id": "ljFnD-sT_VyM"
      },
      "execution_count": 56,
      "outputs": []
    },
    {
      "cell_type": "code",
      "source": [
        "def train(dataloader, loss_fn, optimizer, batch):\n",
        "    model.train()\n",
        "    for i, (X, y) in enumerate(dataloader):\n",
        "        X, y = X.to(device), y.to(device)\n",
        "        preds = model(X)\n",
        "        loss = loss_fn(preds, y)\n",
        "        loss.backward()\n",
        "        optimizer.step()\n",
        "        optimizer.zero_grad()\n",
        "\n",
        "        if i % 100 == 0:\n",
        "            print(f\" Loss Value : {loss.item():>5f}, Current : [{(i+1)*batch}/{len(dataloader.dataset)}] \")"
      ],
      "metadata": {
        "id": "r8IN3es9_JVS"
      },
      "execution_count": 57,
      "outputs": []
    },
    {
      "cell_type": "code",
      "source": [
        "def test(dataloader, loss_fn):\n",
        "    model.eval()\n",
        "    test_loss = 0 # batch 사이즈의 평균 손실함수 값\n",
        "    correction = 0  # 전체 맞은 갯수\n",
        "    with torch.no_grad():\n",
        "        for i, (X, y) in enumerate(dataloader):\n",
        "            X, y = X.to(device), y.to(device)\n",
        "            preds = model(X)\n",
        "            loss = loss_fn(preds, y).item()\n",
        "            test_loss += loss\n",
        "            correct = (preds.argmax(1) == y).type(torch.float).sum().item()\n",
        "            correction += correct\n",
        "        print(f\"Test Loss Value : {test_loss/len(dataloader):>4f}, Acurracy : {correction/len(dataloader.dataset)*100:>0.1f}%\")"
      ],
      "metadata": {
        "id": "ypaB6M9kCIGV"
      },
      "execution_count": 61,
      "outputs": []
    },
    {
      "cell_type": "code",
      "source": [
        "epochs = 5\n",
        "for i in range(epochs):\n",
        "    print(f\"{i+1} epoch \\n -------------------------\")\n",
        "    train(train_dataloader, loss_fn, optimizer, batch)\n",
        "    test(test_dataloader, loss_fn)\n",
        "print(\"learning_done\")"
      ],
      "metadata": {
        "colab": {
          "base_uri": "https://localhost:8080/"
        },
        "id": "zVgzXV7PFTZb",
        "outputId": "2caca753-ad72-4e6a-91b7-3f15400c1806"
      },
      "execution_count": 62,
      "outputs": [
        {
          "output_type": "stream",
          "name": "stdout",
          "text": [
            "1 epoch \n",
            " -------------------------\n",
            " Loss Value : 2.020241, Current : [64/60000] \n",
            " Loss Value : 1.999288, Current : [6464/60000] \n",
            " Loss Value : 1.896790, Current : [12864/60000] \n",
            " Loss Value : 1.940438, Current : [19264/60000] \n",
            " Loss Value : 1.843226, Current : [25664/60000] \n",
            " Loss Value : 1.775932, Current : [32064/60000] \n",
            " Loss Value : 1.802980, Current : [38464/60000] \n",
            " Loss Value : 1.699887, Current : [44864/60000] \n",
            " Loss Value : 1.723675, Current : [51264/60000] \n",
            " Loss Value : 1.623551, Current : [57664/60000] \n",
            "Test Loss Value : 1.634991, Acurracy : 60.2%\n",
            "2 epoch \n",
            " -------------------------\n",
            " Loss Value : 1.686639, Current : [64/60000] \n",
            " Loss Value : 1.657915, Current : [6464/60000] \n",
            " Loss Value : 1.510994, Current : [12864/60000] \n",
            " Loss Value : 1.584828, Current : [19264/60000] \n",
            " Loss Value : 1.459040, Current : [25664/60000] \n",
            " Loss Value : 1.435468, Current : [32064/60000] \n",
            " Loss Value : 1.453610, Current : [38464/60000] \n",
            " Loss Value : 1.370219, Current : [44864/60000] \n",
            " Loss Value : 1.403137, Current : [51264/60000] \n",
            " Loss Value : 1.298735, Current : [57664/60000] \n",
            "Test Loss Value : 1.328775, Acurracy : 61.6%\n",
            "3 epoch \n",
            " -------------------------\n",
            " Loss Value : 1.400596, Current : [64/60000] \n",
            " Loss Value : 1.387800, Current : [6464/60000] \n",
            " Loss Value : 1.223925, Current : [12864/60000] \n",
            " Loss Value : 1.323882, Current : [19264/60000] \n",
            " Loss Value : 1.193987, Current : [25664/60000] \n",
            " Loss Value : 1.210198, Current : [32064/60000] \n",
            " Loss Value : 1.229375, Current : [38464/60000] \n",
            " Loss Value : 1.164531, Current : [44864/60000] \n",
            " Loss Value : 1.202100, Current : [51264/60000] \n",
            " Loss Value : 1.111607, Current : [57664/60000] \n",
            "Test Loss Value : 1.139711, Acurracy : 63.2%\n",
            "4 epoch \n",
            " -------------------------\n",
            " Loss Value : 1.210719, Current : [64/60000] \n",
            " Loss Value : 1.215503, Current : [6464/60000] \n",
            " Loss Value : 1.037299, Current : [12864/60000] \n",
            " Loss Value : 1.165967, Current : [19264/60000] \n",
            " Loss Value : 1.032696, Current : [25664/60000] \n",
            " Loss Value : 1.063608, Current : [32064/60000] \n",
            " Loss Value : 1.096053, Current : [38464/60000] \n",
            " Loss Value : 1.036478, Current : [44864/60000] \n",
            " Loss Value : 1.075748, Current : [51264/60000] \n",
            " Loss Value : 0.998958, Current : [57664/60000] \n",
            "Test Loss Value : 1.020576, Acurracy : 64.7%\n",
            "5 epoch \n",
            " -------------------------\n",
            " Loss Value : 1.082171, Current : [64/60000] \n",
            " Loss Value : 1.104924, Current : [6464/60000] \n",
            " Loss Value : 0.911752, Current : [12864/60000] \n",
            " Loss Value : 1.063133, Current : [19264/60000] \n",
            " Loss Value : 0.932519, Current : [25664/60000] \n",
            " Loss Value : 0.962209, Current : [32064/60000] \n",
            " Loss Value : 1.011625, Current : [38464/60000] \n",
            " Loss Value : 0.953223, Current : [44864/60000] \n",
            " Loss Value : 0.989352, Current : [51264/60000] \n",
            " Loss Value : 0.924499, Current : [57664/60000] \n",
            "Test Loss Value : 0.940157, Acurracy : 66.1%\n",
            "learning_done\n"
          ]
        }
      ]
    },
    {
      "cell_type": "markdown",
      "source": [
        "# save and load"
      ],
      "metadata": {
        "id": "cmLzq2ch07we"
      }
    },
    {
      "cell_type": "code",
      "source": [
        "torch.save(model.state_dict(), \"simplemodel.pth\")\n",
        "print(f\"model save done to simplemodel.pth\")"
      ],
      "metadata": {
        "colab": {
          "base_uri": "https://localhost:8080/"
        },
        "id": "bN0MdMRVJdhd",
        "outputId": "86917c1e-54ea-4613-f801-8ac89a860f7e"
      },
      "execution_count": 63,
      "outputs": [
        {
          "output_type": "stream",
          "name": "stdout",
          "text": [
            "model save done to simplemodel.pth\n"
          ]
        }
      ]
    },
    {
      "cell_type": "code",
      "source": [
        "model = SimpleNetworks().to(device) # 모델 불러오기\n",
        "model.load_state_dict(torch.load(\"simplemodel.pth\"))"
      ],
      "metadata": {
        "colab": {
          "base_uri": "https://localhost:8080/"
        },
        "id": "YabVqmcBJyN8",
        "outputId": "79928aa6-0464-4d18-d2b4-0f5f91ca34a5"
      },
      "execution_count": 64,
      "outputs": [
        {
          "output_type": "execute_result",
          "data": {
            "text/plain": [
              "<All keys matched successfully>"
            ]
          },
          "metadata": {},
          "execution_count": 64
        }
      ]
    },
    {
      "cell_type": "markdown",
      "source": [
        "# inference"
      ],
      "metadata": {
        "id": "G8EFqOI20_QJ"
      }
    },
    {
      "cell_type": "code",
      "source": [
        "model.eval()\n",
        "with torch.no_grad():\n",
        "    for i, (X, y) in enumerate(test_dataloader):\n",
        "        X, y = X.to(device), y.to(device)\n",
        "        preds = model(X)\n",
        "        correct = (preds.argmax(1) == y).type(torch.int)\n",
        "        print(correct, f\"\\nbatch size correct : {correct.sum().item()/len(y)*100}%\")\n",
        "        print(f\"(note : 1 means correct)\")\n",
        "        break"
      ],
      "metadata": {
        "colab": {
          "base_uri": "https://localhost:8080/"
        },
        "id": "M4J5ed1RKhNx",
        "outputId": "34e0fbd0-e885-4c59-a13f-c6aa8bb6fc65"
      },
      "execution_count": 72,
      "outputs": [
        {
          "output_type": "stream",
          "name": "stdout",
          "text": [
            "tensor([1, 1, 1, 1, 1, 1, 1, 0, 0, 1, 0, 1, 1, 1, 1, 1, 1, 0, 1, 1, 0, 0, 1, 0,\n",
            "        1, 0, 0, 0, 1, 1, 1, 1, 1, 1, 1, 1, 1, 0, 1, 1, 0, 1, 1, 0, 0, 0, 1, 1,\n",
            "        0, 1, 0, 0, 0, 0, 0, 1, 1, 1, 1, 1, 1, 1, 1, 0], dtype=torch.int32) \n",
            "batch size correct : 65.625%\n",
            "(note : 1 means correct)\n"
          ]
        }
      ]
    }
  ]
}