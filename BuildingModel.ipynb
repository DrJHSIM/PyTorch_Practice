{
  "nbformat": 4,
  "nbformat_minor": 0,
  "metadata": {
    "colab": {
      "provenance": [],
      "authorship_tag": "ABX9TyMJ04dRkgbx3MzkYUaBwh4A",
      "include_colab_link": true
    },
    "kernelspec": {
      "name": "python3",
      "display_name": "Python 3"
    },
    "language_info": {
      "name": "python"
    }
  },
  "cells": [
    {
      "cell_type": "markdown",
      "metadata": {
        "id": "view-in-github",
        "colab_type": "text"
      },
      "source": [
        "<a href=\"https://colab.research.google.com/github/DrJHSIM/PyTorch_Practice/blob/main/BuildingModel.ipynb\" target=\"_parent\"><img src=\"https://colab.research.google.com/assets/colab-badge.svg\" alt=\"Open In Colab\"/></a>"
      ]
    },
    {
      "cell_type": "markdown",
      "source": [
        "# 간단한 신경망 모델 구축"
      ],
      "metadata": {
        "id": "eHdc2c1HUyOd"
      }
    },
    {
      "cell_type": "code",
      "source": [
        "import os\n",
        "import torch\n",
        "from torch import nn"
      ],
      "metadata": {
        "id": "wi4NfHZqUj43"
      },
      "execution_count": 2,
      "outputs": []
    },
    {
      "cell_type": "markdown",
      "source": [
        "## Device for Traning"
      ],
      "metadata": {
        "id": "nFbe6YqhVYEq"
      }
    },
    {
      "cell_type": "code",
      "source": [
        "device = (\n",
        "    \"cuda\"\n",
        "    if torch.cuda.is_available()\n",
        "    else \"mps\"\n",
        "    if torch.backends.mps.is_available()\n",
        "    else \"cpu\"\n",
        ")\n",
        "print(f\"Using device {device}\")"
      ],
      "metadata": {
        "colab": {
          "base_uri": "https://localhost:8080/"
        },
        "id": "LgoPDaqrVDyQ",
        "outputId": "e10e2b00-6cab-4419-d4d7-10e57f48b64d"
      },
      "execution_count": 4,
      "outputs": [
        {
          "output_type": "stream",
          "name": "stdout",
          "text": [
            "Using device cpu\n"
          ]
        }
      ]
    },
    {
      "cell_type": "markdown",
      "source": [
        "# A builing neural network model"
      ],
      "metadata": {
        "id": "sEYHx4tOVvPi"
      }
    },
    {
      "cell_type": "code",
      "source": [
        "class NeuralNetwork(nn.Module):\n",
        "    def __init__(self):\n",
        "        super().__init__()\n",
        "        self.flatten = nn.Flatten()\n",
        "        self.linear_relu = nn.Sequential(\n",
        "            nn.Linear(28*28, 512),\n",
        "            nn.ReLU(),\n",
        "            nn.Linear(512, 512),\n",
        "            nn.ReLU(),\n",
        "            nn.Linear(512, 10)\n",
        "        )\n",
        "\n",
        "    def forward(self, x):\n",
        "        x = self.flatten(x)\n",
        "        logit = self.linear_relu(x)\n",
        "        return logit"
      ],
      "metadata": {
        "id": "jP4xMWoUV1yN"
      },
      "execution_count": 5,
      "outputs": []
    },
    {
      "cell_type": "markdown",
      "source": [
        "NeuralNetwork class의 instance를 만들고 device로 이동 시키고 신경망 구조를 출력함."
      ],
      "metadata": {
        "id": "lkuZiJa2YUrC"
      }
    },
    {
      "cell_type": "code",
      "source": [
        "model = NeuralNetwork().to(device)\n",
        "print(model)"
      ],
      "metadata": {
        "colab": {
          "base_uri": "https://localhost:8080/"
        },
        "id": "q2XfKlUjYUZS",
        "outputId": "c841703a-897e-457c-e4aa-6d340314bf6c"
      },
      "execution_count": 6,
      "outputs": [
        {
          "output_type": "stream",
          "name": "stdout",
          "text": [
            "NeuralNetwork(\n",
            "  (flatten): Flatten(start_dim=1, end_dim=-1)\n",
            "  (linear_relu): Sequential(\n",
            "    (0): Linear(in_features=784, out_features=512, bias=True)\n",
            "    (1): ReLU()\n",
            "    (2): Linear(in_features=512, out_features=512, bias=True)\n",
            "    (3): ReLU()\n",
            "    (4): Linear(in_features=512, out_features=10, bias=True)\n",
            "  )\n",
            ")\n"
          ]
        }
      ]
    },
    {
      "cell_type": "code",
      "source": [
        "X = torch.rand(1, 28, 28, device = device)\n",
        "logits = model(X)\n",
        "pred_prob = nn.Softmax(dim = 1)(logits)\n",
        "y_pred = pred_prob.argmax(1)\n",
        "print(f\"Predicted class : {y_pred}\")"
      ],
      "metadata": {
        "colab": {
          "base_uri": "https://localhost:8080/"
        },
        "id": "PZu5IpVtiLnt",
        "outputId": "64c262b4-3deb-48d0-e6bb-bca9d19d2846"
      },
      "execution_count": 7,
      "outputs": [
        {
          "output_type": "stream",
          "name": "stdout",
          "text": [
            "Predicted class : tensor([6])\n"
          ]
        }
      ]
    },
    {
      "cell_type": "markdown",
      "source": [
        "# Model Parameters"
      ],
      "metadata": {
        "id": "t1hJMbVOihxa"
      }
    },
    {
      "cell_type": "code",
      "source": [
        "model.named_parameters()"
      ],
      "metadata": {
        "id": "XCGuJtQ5XL8c"
      },
      "execution_count": null,
      "outputs": []
    },
    {
      "cell_type": "code",
      "source": [
        "print(f\"Model structure {model}\\n\\n\")\n",
        "\n",
        "for name, param in model.named_parameters():\n",
        "    print(f\"Layer : {name} | Size : {param.size()} | Values : {param[:2]}\\n\")"
      ],
      "metadata": {
        "colab": {
          "base_uri": "https://localhost:8080/"
        },
        "id": "iORFFlkjjNRg",
        "outputId": "7e33f268-3846-4e5a-a6f7-fc58baaa6c72"
      },
      "execution_count": 10,
      "outputs": [
        {
          "output_type": "stream",
          "name": "stdout",
          "text": [
            "Model structure NeuralNetwork(\n",
            "  (flatten): Flatten(start_dim=1, end_dim=-1)\n",
            "  (linear_relu): Sequential(\n",
            "    (0): Linear(in_features=784, out_features=512, bias=True)\n",
            "    (1): ReLU()\n",
            "    (2): Linear(in_features=512, out_features=512, bias=True)\n",
            "    (3): ReLU()\n",
            "    (4): Linear(in_features=512, out_features=10, bias=True)\n",
            "  )\n",
            ")\n",
            "\n",
            "\n",
            "Layer : linear_relu.0.weight | Size : torch.Size([512, 784]) | Values : tensor([[ 0.0160,  0.0170,  0.0193,  ...,  0.0333,  0.0126,  0.0315],\n",
            "        [-0.0020,  0.0269,  0.0034,  ..., -0.0335,  0.0117, -0.0195]],\n",
            "       grad_fn=<SliceBackward0>)\n",
            "\n",
            "Layer : linear_relu.0.bias | Size : torch.Size([512]) | Values : tensor([-0.0276,  0.0342], grad_fn=<SliceBackward0>)\n",
            "\n",
            "Layer : linear_relu.2.weight | Size : torch.Size([512, 512]) | Values : tensor([[ 0.0345, -0.0116, -0.0372,  ...,  0.0214,  0.0212,  0.0018],\n",
            "        [ 0.0218, -0.0065,  0.0181,  ..., -0.0105, -0.0117,  0.0171]],\n",
            "       grad_fn=<SliceBackward0>)\n",
            "\n",
            "Layer : linear_relu.2.bias | Size : torch.Size([512]) | Values : tensor([ 0.0178, -0.0148], grad_fn=<SliceBackward0>)\n",
            "\n",
            "Layer : linear_relu.4.weight | Size : torch.Size([10, 512]) | Values : tensor([[ 3.0158e-03, -3.0954e-02, -3.9855e-02,  ..., -1.1282e-02,\n",
            "          5.1708e-03, -7.0418e-03],\n",
            "        [-2.4658e-02, -3.8744e-02, -3.5483e-02,  ..., -5.2597e-03,\n",
            "         -2.8797e-05, -1.9116e-02]], grad_fn=<SliceBackward0>)\n",
            "\n",
            "Layer : linear_relu.4.bias | Size : torch.Size([10]) | Values : tensor([-0.0110, -0.0178], grad_fn=<SliceBackward0>)\n",
            "\n"
          ]
        }
      ]
    }
  ]
}